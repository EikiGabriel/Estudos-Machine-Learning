{
 "cells": [
  {
   "cell_type": "code",
   "execution_count": 0,
   "metadata": {
    "application/vnd.databricks.v1+cell": {
     "cellMetadata": {
      "byteLimit": 2048000,
      "rowLimit": 10000
     },
     "inputWidgets": {},
     "nuid": "66c680a2-4338-4ca4-aea9-6040ebae8cbe",
     "showTitle": false,
     "tableResultSettingsMap": {},
     "title": ""
    }
   },
   "outputs": [],
   "source": [
    "%pip install openpyxl"
   ]
  },
  {
   "cell_type": "code",
   "execution_count": 0,
   "metadata": {
    "application/vnd.databricks.v1+cell": {
     "cellMetadata": {
      "byteLimit": 2048000,
      "rowLimit": 10000
     },
     "inputWidgets": {},
     "nuid": "84660c0b-4ec8-4470-acef-13ac5666bae8",
     "showTitle": false,
     "tableResultSettingsMap": {},
     "title": ""
    }
   },
   "outputs": [],
   "source": [
    "dbutils.library.restartPython()"
   ]
  },
  {
   "cell_type": "code",
   "execution_count": 0,
   "metadata": {
    "application/vnd.databricks.v1+cell": {
     "cellMetadata": {
      "byteLimit": 2048000,
      "rowLimit": 10000
     },
     "inputWidgets": {},
     "nuid": "6498209a-e89b-49a4-9bca-f7346465d72f",
     "showTitle": false,
     "tableResultSettingsMap": {},
     "title": ""
    }
   },
   "outputs": [],
   "source": [
    "import pandas as pd"
   ]
  },
  {
   "cell_type": "code",
   "execution_count": 0,
   "metadata": {
    "application/vnd.databricks.v1+cell": {
     "cellMetadata": {
      "byteLimit": 2048000,
      "rowLimit": 10000
     },
     "inputWidgets": {},
     "nuid": "8813c51f-b957-42ed-9337-ea11123ec292",
     "showTitle": false,
     "tableResultSettingsMap": {},
     "title": ""
    }
   },
   "outputs": [],
   "source": [
    "df = pd.read_excel(\"/Volumes/workspace/machine_learning/planilhas/dados_cerveja_nota.xlsx\")\n",
    "df.head()"
   ]
  },
  {
   "cell_type": "code",
   "execution_count": 0,
   "metadata": {
    "application/vnd.databricks.v1+cell": {
     "cellMetadata": {
      "byteLimit": 2048000,
      "rowLimit": 10000
     },
     "inputWidgets": {},
     "nuid": "d1d6318f-cf1e-4889-8836-a9a4be599aa9",
     "showTitle": false,
     "tableResultSettingsMap": {},
     "title": ""
    }
   },
   "outputs": [],
   "source": [
    "from sklearn import linear_model\n",
    "\n",
    "X = df[['cerveja']] # Sempre uma matrix\n",
    "y = df['nota']      # Sempre um vetor (Target)\n",
    "\n",
    "reg = linear_model.LinearRegression(fit_intercept=True)\n",
    "reg.fit(X, y)"
   ]
  },
  {
   "cell_type": "code",
   "execution_count": 0,
   "metadata": {
    "application/vnd.databricks.v1+cell": {
     "cellMetadata": {
      "byteLimit": 2048000,
      "rowLimit": 10000
     },
     "inputWidgets": {},
     "nuid": "616b6535-2c0a-4378-b937-fdb09f8c7f29",
     "showTitle": false,
     "tableResultSettingsMap": {},
     "title": ""
    }
   },
   "outputs": [],
   "source": [
    "a , b = reg.intercept_ , reg.coef_[0]\n",
    "print(f\"Equação da reta: y = {a} + {b}x\")"
   ]
  },
  {
   "cell_type": "code",
   "execution_count": 0,
   "metadata": {
    "application/vnd.databricks.v1+cell": {
     "cellMetadata": {
      "byteLimit": 2048000,
      "rowLimit": 10000
     },
     "inputWidgets": {},
     "nuid": "a6a85a7e-40e7-4457-b622-1beee64405dc",
     "showTitle": false,
     "tableResultSettingsMap": {},
     "title": ""
    }
   },
   "outputs": [],
   "source": [
    "predict = reg.predict(X.drop_duplicates())\n",
    "predict"
   ]
  },
  {
   "cell_type": "code",
   "execution_count": 0,
   "metadata": {
    "application/vnd.databricks.v1+cell": {
     "cellMetadata": {
      "byteLimit": 2048000,
      "rowLimit": 10000
     },
     "inputWidgets": {},
     "nuid": "f878c8fb-d4b5-47ab-9c3e-135231e4e424",
     "showTitle": false,
     "tableResultSettingsMap": {},
     "title": ""
    }
   },
   "outputs": [],
   "source": [
    "import matplotlib.pyplot as plt\n",
    "\n",
    "plt.plot(X['cerveja'], y, 'o')\n",
    "plt.grid(True)\n",
    "plt.title(\"Relação Nota e cerveja\")\n",
    "plt.xlabel(\"cerveja\")\n",
    "plt.ylabel(\"nota\")\n",
    "\n",
    "plt.plot(X.drop_duplicates(), predict)\n"
   ]
  },
  {
   "cell_type": "code",
   "execution_count": 0,
   "metadata": {
    "application/vnd.databricks.v1+cell": {
     "cellMetadata": {
      "byteLimit": 2048000,
      "rowLimit": 10000
     },
     "inputWidgets": {},
     "nuid": "32cee2ca-3a53-4b48-b928-58219c917418",
     "showTitle": false,
     "tableResultSettingsMap": {},
     "title": ""
    }
   },
   "outputs": [],
   "source": [
    "#Agora plotar a arvore\n",
    "from sklearn import tree\n",
    "\n",
    "arvore_full = tree.DecisionTreeRegressor(random_state=42)\n",
    "arvore_full.fit(X, y)\n",
    "predict_arvore = arvore_full.predict(X.drop_duplicates())\n",
    "\n",
    "arvore_d2 = tree.DecisionTreeRegressor(random_state=42, max_depth=2)\n",
    "arvore_d2.fit(X, y)\n",
    "predict_arvore_d2 = arvore_d2.predict(X.drop_duplicates())"
   ]
  },
  {
   "cell_type": "code",
   "execution_count": 0,
   "metadata": {
    "application/vnd.databricks.v1+cell": {
     "cellMetadata": {
      "byteLimit": 2048000,
      "rowLimit": 10000
     },
     "inputWidgets": {},
     "nuid": "d7f216fe-dec0-4853-b515-b13fa621a625",
     "showTitle": false,
     "tableResultSettingsMap": {},
     "title": ""
    }
   },
   "outputs": [],
   "source": [
    "plt.plot(X['cerveja'], y, 'o')\n",
    "plt.grid(True)\n",
    "plt.title(\"Relação Nota e cerveja\")\n",
    "plt.xlabel(\"cerveja\")\n",
    "plt.ylabel(\"nota\")\n",
    "\n",
    "plt.plot(X.drop_duplicates(), predict, color='black')\n",
    "plt.plot(X.drop_duplicates(), predict_arvore, color='tomato')\n",
    "plt.plot(X.drop_duplicates(), predict_arvore_d2, '--')\n",
    "\n",
    "plt.plot(X.drop_duplicates()['cerveja'], predict_arvore)\n",
    "plt.legend(['Observado', f'y = {a:.3f} + {b:.3f}x',\n",
    "            'Arvore Full',\n",
    "            'Arvore D2'])\n"
   ]
  }
 ],
 "metadata": {
  "application/vnd.databricks.v1+notebook": {
   "computePreferences": null,
   "dashboards": [],
   "environmentMetadata": {
    "base_environment": "",
    "environment_version": "2"
   },
   "inputWidgetPreferences": null,
   "language": "python",
   "notebookMetadata": {
    "pythonIndentUnit": 4
   },
   "notebookName": "Regressao Cevejas_nota",
   "widgets": {}
  },
  "language_info": {
   "name": "python"
  }
 },
 "nbformat": 4,
 "nbformat_minor": 0
}
