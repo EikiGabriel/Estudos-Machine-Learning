{
 "cells": [
  {
   "cell_type": "code",
   "execution_count": 0,
   "metadata": {
    "application/vnd.databricks.v1+cell": {
     "cellMetadata": {
      "byteLimit": 2048000,
      "rowLimit": 10000
     },
     "inputWidgets": {},
     "nuid": "ac15c8ed-c378-4504-9401-2c9b81b88f94",
     "showTitle": false,
     "tableResultSettingsMap": {},
     "title": ""
    }
   },
   "outputs": [],
   "source": [
    "%pip install openpyxl"
   ]
  },
  {
   "cell_type": "code",
   "execution_count": 0,
   "metadata": {
    "application/vnd.databricks.v1+cell": {
     "cellMetadata": {
      "byteLimit": 2048000,
      "rowLimit": 10000
     },
     "inputWidgets": {},
     "nuid": "6f64763d-b9af-4dbe-82d6-16e327a916f3",
     "showTitle": false,
     "tableResultSettingsMap": {},
     "title": ""
    }
   },
   "outputs": [],
   "source": [
    "dbutils.library.restartPython()"
   ]
  },
  {
   "cell_type": "code",
   "execution_count": 0,
   "metadata": {
    "application/vnd.databricks.v1+cell": {
     "cellMetadata": {
      "byteLimit": 2048000,
      "rowLimit": 10000
     },
     "inputWidgets": {},
     "nuid": "fbe9f27c-38e5-4843-8ee8-b4c33a69b398",
     "showTitle": false,
     "tableResultSettingsMap": {},
     "title": ""
    }
   },
   "outputs": [],
   "source": [
    "import pandas as pd\n",
    "import matplotlib.pyplot as plt\n",
    "from sklearn import linear_model\n",
    "from sklearn import tree\n",
    "from sklearn import naive_bayes"
   ]
  },
  {
   "cell_type": "code",
   "execution_count": 0,
   "metadata": {
    "application/vnd.databricks.v1+cell": {
     "cellMetadata": {
      "byteLimit": 2048000,
      "rowLimit": 10000
     },
     "inputWidgets": {},
     "nuid": "67b3e811-ccda-4c90-8848-e4495f84e3bc",
     "showTitle": false,
     "tableResultSettingsMap": {},
     "title": ""
    }
   },
   "outputs": [],
   "source": [
    "df = pd.read_excel(\"/Volumes/workspace/machine_learning/planilhas/dados_cerveja_nota.xlsx\")\n",
    "df.head()"
   ]
  },
  {
   "cell_type": "code",
   "execution_count": 0,
   "metadata": {
    "application/vnd.databricks.v1+cell": {
     "cellMetadata": {
      "byteLimit": 2048000,
      "rowLimit": 10000
     },
     "inputWidgets": {},
     "nuid": "d730a5ea-435b-4139-81ac-0d177d9fa8ec",
     "showTitle": false,
     "tableResultSettingsMap": {},
     "title": ""
    }
   },
   "outputs": [],
   "source": [
    "df['aprovado'] = (df['nota'] > 5).astype(int)\n",
    "df"
   ]
  },
  {
   "cell_type": "code",
   "execution_count": 0,
   "metadata": {
    "application/vnd.databricks.v1+cell": {
     "cellMetadata": {
      "byteLimit": 2048000,
      "rowLimit": 10000
     },
     "inputWidgets": {},
     "nuid": "8fc7d73f-297f-45fe-a569-1a9c86e6075c",
     "showTitle": false,
     "tableResultSettingsMap": {},
     "title": ""
    }
   },
   "outputs": [],
   "source": [
    "plt.plot(df['cerveja'], df['aprovado'], 'o', color='blue')\n",
    "plt.grid()\n",
    "plt.title(\"Cerveja VS Aprovação\")\n",
    "plt.xlabel(\"Cerveja\")\n",
    "plt.ylabel(\"Aprovado\")"
   ]
  },
  {
   "cell_type": "code",
   "execution_count": 0,
   "metadata": {
    "application/vnd.databricks.v1+cell": {
     "cellMetadata": {
      "byteLimit": 2048000,
      "rowLimit": 10000
     },
     "inputWidgets": {},
     "nuid": "07e9e79e-6794-445c-bb62-edcbc7f6a606",
     "showTitle": false,
     "tableResultSettingsMap": {},
     "title": ""
    }
   },
   "outputs": [],
   "source": [
    "reg = linear_model.LogisticRegression(penalty=None,fit_intercept=True)\n",
    "\n",
    "reg.fit(df[['cerveja']], df['aprovado'])\n",
    "reg_predict = reg.predict(df[['cerveja']].drop_duplicates())\n",
    "reg_proba = reg.predict_proba(df[['cerveja']].drop_duplicates())[:,1]\n",
    "\n",
    "plt.grid(True)\n",
    "plt.title(\"Modelo de Regressão Logistica\")\n",
    "plt.xlabel(\"Cerveja\")\n",
    "plt.ylabel(\"Aprovado\")\n",
    "plt.plot(df['cerveja'], df['aprovado'], 'o', color='purple')\n",
    "plt.plot(df[\"cerveja\"].drop_duplicates(), reg_predict, color=\"green\")\n",
    "plt.plot(df[\"cerveja\"].drop_duplicates(), reg_proba, color=\"magenta\")\n",
    "plt.hlines(0.5, xmin=1, xmax=9, linestyle=\"--\", color=\"black\")\n",
    "\n",
    "plt.legend(\n",
    "    [\n",
    "        \"Notas\",\n",
    "        \"Regressao Predict\",\n",
    "        \"Regressao Proba\",\n",
    "        \"Linha de media\"\n",
    "    ]\n",
    ")"
   ]
  },
  {
   "cell_type": "code",
   "execution_count": 0,
   "metadata": {
    "application/vnd.databricks.v1+cell": {
     "cellMetadata": {
      "byteLimit": 2048000,
      "rowLimit": 10000
     },
     "inputWidgets": {},
     "nuid": "402ccdef-64c1-4b78-bd7a-fb14d5d8d701",
     "showTitle": false,
     "tableResultSettingsMap": {},
     "title": ""
    }
   },
   "outputs": [],
   "source": [
    "arvore_full = tree.DecisionTreeClassifier(random_state=42)\n",
    "arvore_full.fit(df[[\"cerveja\"]], df[\"aprovado\"])\n",
    "arvore_full_predict = arvore_full.predict(df[[\"cerveja\"]].drop_duplicates())\n",
    "arvore_full_proba = arvore_full.predict_proba(df[[\"cerveja\"]].drop_duplicates())[:, 1]\n",
    "\n",
    "plt.title(\"Modelo de Arvore de Decisão\")\n",
    "plt.xlabel(\"Cerveja\")\n",
    "plt.ylabel(\"Aprovado\")\n",
    "plt.plot(df['cerveja'], df['aprovado'], 'o', color='purple')\n",
    "plt.plot(df[\"cerveja\"].drop_duplicates(), arvore_full_predict, color=\"green\")\n",
    "plt.plot(df[\"cerveja\"].drop_duplicates(), arvore_full_proba, color=\"magenta\")\n",
    "plt.hlines(0.5, xmin=1, xmax=9, linestyle=\"--\", color=\"black\")\n",
    "\n",
    "plt.legend(\n",
    "    [\n",
    "        \"Notas\",\n",
    "        \"Arvore Predict\",\n",
    "        \"Arvore Proba\",\n",
    "        \"Linha de media\"\n",
    "    ]\n",
    ")"
   ]
  },
  {
   "cell_type": "code",
   "execution_count": 0,
   "metadata": {
    "application/vnd.databricks.v1+cell": {
     "cellMetadata": {
      "byteLimit": 2048000,
      "rowLimit": 10000
     },
     "inputWidgets": {},
     "nuid": "308b6547-64d7-41ec-9bf2-b7087441fad0",
     "showTitle": false,
     "tableResultSettingsMap": {},
     "title": ""
    }
   },
   "outputs": [],
   "source": [
    "arvore_d2 = tree.DecisionTreeClassifier(random_state=42, max_depth=2)\n",
    "arvore_d2.fit(df[[\"cerveja\"]], df[\"aprovado\"])\n",
    "arvore_d2_predict = arvore_d2.predict(df[[\"cerveja\"]].drop_duplicates())\n",
    "arvore_d2_proba = arvore_d2.predict_proba(df[[\"cerveja\"]].drop_duplicates())[:, 1]\n",
    "\n",
    "plt.title(\"Modelo de Arvore D2 de Decisão\")\n",
    "plt.xlabel(\"Cerveja\")\n",
    "plt.ylabel(\"Aprovado\")\n",
    "plt.plot(df['cerveja'], df['aprovado'], 'o', color='purple')\n",
    "plt.plot(df[\"cerveja\"].drop_duplicates(), arvore_d2_predict, color=\"green\")\n",
    "plt.plot(df[\"cerveja\"].drop_duplicates(), arvore_d2_proba, color=\"magenta\")\n",
    "plt.hlines(0.5, xmin=1, xmax=9, linestyle=\"--\", color=\"black\")\n",
    "\n",
    "plt.legend(\n",
    "    [\n",
    "        \"Notas\",\n",
    "        \"Arvore D2 Predict\",\n",
    "        \"Arvore D2 Proba\",\n",
    "        \"Linha de media\"\n",
    "    ]\n",
    ")"
   ]
  },
  {
   "cell_type": "code",
   "execution_count": 0,
   "metadata": {
    "application/vnd.databricks.v1+cell": {
     "cellMetadata": {
      "byteLimit": 2048000,
      "rowLimit": 10000
     },
     "inputWidgets": {},
     "nuid": "5859cbaa-da26-4b8c-864e-20826658866b",
     "showTitle": false,
     "tableResultSettingsMap": {},
     "title": ""
    }
   },
   "outputs": [],
   "source": [
    "nb = naive_bayes.GaussianNB()\n",
    "nb.fit(df[[\"cerveja\"]], df[\"aprovado\"])\n",
    "nb_predict = nb.predict(df[[\"cerveja\"]].drop_duplicates())\n",
    "nb_proba = nb.predict_proba(df[[\"cerveja\"]].drop_duplicates())[:,1]\n",
    "\n",
    "\n",
    "plt.grid(True)\n",
    "plt.title(\"Modelo de Naive Bayes\")\n",
    "plt.xlabel(\"Cerveja\")\n",
    "plt.ylabel(\"Aprovado\")\n",
    "plt.plot(df['cerveja'], df['aprovado'], 'o', color='purple')\n",
    "plt.plot(df[\"cerveja\"].drop_duplicates(), nb_predict, color=\"green\")\n",
    "plt.plot(df[\"cerveja\"].drop_duplicates(), nb_proba, color=\"magenta\")\n",
    "\n",
    "plt.hlines(0.5, xmin=1, xmax=9, linestyle=\"--\", color=\"black\")\n",
    "plt.legend(\n",
    "    [\n",
    "        \"Notas\",\n",
    "        \"Naive Bayes Predict\",\n",
    "        \"Naive Bayes Proba\",\n",
    "        \"Linha media\"\n",
    "    ]\n",
    ")"
   ]
  },
  {
   "cell_type": "code",
   "execution_count": 0,
   "metadata": {
    "application/vnd.databricks.v1+cell": {
     "cellMetadata": {
      "byteLimit": 2048000,
      "rowLimit": 10000
     },
     "inputWidgets": {},
     "nuid": "70d9c907-35a2-4efe-9b53-9a00d02a7fba",
     "showTitle": false,
     "tableResultSettingsMap": {},
     "title": ""
    }
   },
   "outputs": [],
   "source": [
    "\n",
    "plt.grid(True)\n",
    "plt.title(\"Comparação entre modelos\")\n",
    "plt.xlabel(\"Cerveja\")\n",
    "plt.ylabel(\"Aprovado\")\n",
    "plt.plot(df['cerveja'], df['aprovado'], 'o', color='purple')\n",
    "#plt.plot(df[\"cerveja\"].drop_duplicates(), arvore_full_predict, color=\"tomato\")\n",
    "#plt.plot(df[\"cerveja\"].drop_duplicates(), arvore_full_proba, color=\"red\")\n",
    "\n",
    "plt.plot(df['cerveja'].drop_duplicates(), reg_predict, color='tomato')\n",
    "plt.plot(df['cerveja'].drop_duplicates(), reg_proba, color='red')\n",
    "\n",
    "plt.plot(df[\"cerveja\"].drop_duplicates(), arvore_d2_predict, color=\"blue\")\n",
    "plt.plot(df[\"cerveja\"].drop_duplicates(), arvore_d2_proba, color=\"black\")\n",
    "\n",
    "plt.plot(df[\"cerveja\"].drop_duplicates(), nb_predict, color=\"green\")\n",
    "plt.plot(df[\"cerveja\"].drop_duplicates(), nb_proba, color=\"magenta\")\n",
    "\n",
    "plt.hlines(0.5, xmin=1, xmax=9, linestyle=\"--\", color=\"black\")\n",
    "plt.legend(\n",
    "    [\n",
    "        \"Notas\",\n",
    "        \"Regressao Predict\",\n",
    "        \"Regressao Proba\",\n",
    "        \"Arvore D2 Predict\",\n",
    "        \"Arvore D2 Proba\",\n",
    "        \"Naive Bayes Predict\",\n",
    "        \"Naive Bayes Proba\",\n",
    "        \"Observação\"\n",
    "    ]\n",
    ")"
   ]
  }
 ],
 "metadata": {
  "application/vnd.databricks.v1+notebook": {
   "computePreferences": null,
   "dashboards": [],
   "environmentMetadata": {
    "base_environment": "",
    "environment_version": "2"
   },
   "inputWidgetPreferences": null,
   "language": "python",
   "notebookMetadata": {
    "pythonIndentUnit": 4
   },
   "notebookName": "Modelos de Decisão (Clasificação)",
   "widgets": {}
  },
  "language_info": {
   "name": "python"
  }
 },
 "nbformat": 4,
 "nbformat_minor": 0
}
